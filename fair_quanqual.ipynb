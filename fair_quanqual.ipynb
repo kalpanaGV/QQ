{
 "cells": [
  {
   "cell_type": "code",
   "execution_count": 1,
   "id": "8dbd92c4",
   "metadata": {},
   "outputs": [],
   "source": [
    "import pandas as pd"
   ]
  },
  {
   "cell_type": "code",
   "execution_count": 2,
   "id": "f1e34c61",
   "metadata": {},
   "outputs": [],
   "source": [
    "dataset=pd.read_csv(\"placement.csv\")"
   ]
  },
  {
   "cell_type": "code",
   "execution_count": 7,
   "id": "1259c280",
   "metadata": {},
   "outputs": [],
   "source": [
    "from uni import univariate"
   ]
  },
  {
   "cell_type": "code",
   "execution_count": null,
   "id": "becd69da",
   "metadata": {},
   "outputs": [],
   "source": []
  },
  {
   "cell_type": "code",
   "execution_count": 8,
   "id": "babf5493",
   "metadata": {},
   "outputs": [],
   "source": [
    "obj=univariate()"
   ]
  },
  {
   "cell_type": "code",
   "execution_count": 9,
   "id": "8b4203da",
   "metadata": {},
   "outputs": [
    {
     "name": "stdout",
     "output_type": "stream",
     "text": [
      "sl_no Quan\n",
      "gender Qual\n",
      "ssc_p Quan\n",
      "ssc_b Qual\n",
      "hsc_p Quan\n",
      "hsc_b Qual\n",
      "hsc_s Qual\n",
      "degree_p Quan\n",
      "degree_t Qual\n",
      "workex Qual\n",
      "etest_p Quan\n",
      "specialisation Qual\n",
      "mba_p Quan\n",
      "status Qual\n",
      "salary Quan\n"
     ]
    }
   ],
   "source": [
    "quan,qual=obj.QuanQual(dataset)"
   ]
  },
  {
   "cell_type": "code",
   "execution_count": 10,
   "id": "314ad682",
   "metadata": {},
   "outputs": [
    {
     "data": {
      "text/plain": [
       "['sl_no', 'ssc_p', 'hsc_p', 'degree_p', 'etest_p', 'mba_p', 'salary']"
      ]
     },
     "execution_count": 10,
     "metadata": {},
     "output_type": "execute_result"
    }
   ],
   "source": [
    "quan"
   ]
  },
  {
   "cell_type": "code",
   "execution_count": 11,
   "id": "d954bc81",
   "metadata": {},
   "outputs": [
    {
     "data": {
      "text/plain": [
       "['gender',\n",
       " 'ssc_b',\n",
       " 'hsc_b',\n",
       " 'hsc_s',\n",
       " 'degree_t',\n",
       " 'workex',\n",
       " 'specialisation',\n",
       " 'status']"
      ]
     },
     "execution_count": 11,
     "metadata": {},
     "output_type": "execute_result"
    }
   ],
   "source": [
    "qual"
   ]
  },
  {
   "cell_type": "code",
   "execution_count": null,
   "id": "138f288f",
   "metadata": {},
   "outputs": [],
   "source": []
  }
 ],
 "metadata": {
  "kernelspec": {
   "display_name": "Python 3 (ipykernel)",
   "language": "python",
   "name": "python3"
  },
  "language_info": {
   "codemirror_mode": {
    "name": "ipython",
    "version": 3
   },
   "file_extension": ".py",
   "mimetype": "text/x-python",
   "name": "python",
   "nbconvert_exporter": "python",
   "pygments_lexer": "ipython3",
   "version": "3.9.13"
  }
 },
 "nbformat": 4,
 "nbformat_minor": 5
}
